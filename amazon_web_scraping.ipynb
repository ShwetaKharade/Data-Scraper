{
 "cells": [
  {
   "cell_type": "code",
   "execution_count": 2,
   "id": "669f312a-72d5-4c44-86c1-732f88c47357",
   "metadata": {},
   "outputs": [
    {
     "name": "stdout",
     "output_type": "stream",
     "text": [
      "Fetching page 1...\n",
      "Fetching page 2...\n",
      "Fetching page 3...\n",
      "Fetching page 4...\n",
      "Fetching page 5...\n",
      "Fetching page 6...\n",
      "Fetching page 7...\n",
      "Fetching page 8...\n",
      "Fetching page 9...\n",
      "Fetching page 10...\n",
      "Scraping completed. Data saved to 'amazon_products.csv'.\n"
     ]
    }
   ],
   "source": [
    "import requests\n",
    "from bs4 import BeautifulSoup\n",
    "import pandas as pd\n",
    "import time\n",
    "\n",
    "BASE_URL = \"https://www.amazon.in/s?k=smartphones\"\n",
    "\n",
    "HEADERS = {\n",
    "    \"User-Agent\": \"Mozilla/5.0 (Windows NT 10.0; Win64; x64) AppleWebKit/537.36 (KHTML, like Gecko) Chrome/111.0.0.0 Safari/537.36\",\n",
    "    \"Accept-Language\": \"en-US,en;q=0.9\"\n",
    "}\n",
    "\n",
    "def fetch_product_data(page):\n",
    "    url = f\"{BASE_URL}&page={page}\"\n",
    "    response = requests.get(url, headers=HEADERS)\n",
    "    if response.status_code != 200:\n",
    "        print(f\"Failed to fetch page {page}: {response.status_code}\")\n",
    "        return []\n",
    "\n",
    "    soup = BeautifulSoup(response.text, 'html.parser')\n",
    "    products = soup.find_all(\"div\", {\"data-component-type\": \"s-search-result\"})\n",
    "\n",
    "    data = []\n",
    "    for product in products:\n",
    "        try:\n",
    "            title_tag = product.find(\"h2\")\n",
    "            title = title_tag.text.strip() if title_tag else \"N/A\"\n",
    "\n",
    "            price_tag = product.find(\"span\", \"a-price-whole\")\n",
    "            price = price_tag.text.replace(',', '').strip() if price_tag else \"N/A\"\n",
    "\n",
    "            rating_tag = product.find(\"span\", \"a-icon-alt\")\n",
    "            rating = rating_tag.text.split()[0] if rating_tag else \"N/A\"\n",
    "\n",
    "            brand = title.split()[0] if title != \"Title Not Available\" else \"N/A\"\n",
    "\n",
    "            data.append({\n",
    "                \"Title\": title,\n",
    "                \"Price\": price,\n",
    "                \"Rating\": rating,\n",
    "                \"Brand\": brand\n",
    "                \n",
    "            })\n",
    "        except Exception as e:\n",
    "            print(f\"Error while processing a product: {e}\")\n",
    "\n",
    "    return data\n",
    "\n",
    "all_data = []\n",
    "for page in range(1, 21):  \n",
    "    print(f\"Fetching page {page}...\")\n",
    "    products = fetch_product_data(page)\n",
    "    all_data.extend(products)\n",
    "\n",
    "    if len(all_data) >= 200:\n",
    "        break\n",
    "    time.sleep(2)\n",
    "\n",
    "df = pd.DataFrame(all_data[:200])  \n",
    "df.to_csv(\"C:/Users/Admin/Desktop/Projects/AIML intern assignment/scrapped_amazon_products.csv\", index=False)\n",
    "\n",
    "print(\"Scraping completed. Data saved to 'amazon_products.csv'.\")\n"
   ]
  },
  {
   "cell_type": "code",
   "execution_count": null,
   "id": "3eaf4641-e857-4dfd-8ff9-7f83f18da2db",
   "metadata": {},
   "outputs": [],
   "source": []
  }
 ],
 "metadata": {
  "kernelspec": {
   "display_name": "Python 3 (ipykernel)",
   "language": "python",
   "name": "python3"
  },
  "language_info": {
   "codemirror_mode": {
    "name": "ipython",
    "version": 3
   },
   "file_extension": ".py",
   "mimetype": "text/x-python",
   "name": "python",
   "nbconvert_exporter": "python",
   "pygments_lexer": "ipython3",
   "version": "3.10.4"
  }
 },
 "nbformat": 4,
 "nbformat_minor": 5
}
